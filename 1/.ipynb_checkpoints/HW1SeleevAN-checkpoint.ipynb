{
 "cells": [
  {
   "cell_type": "markdown",
   "metadata": {
    "id": "xw8BD8v2oBGj"
   },
   "source": [
    "# Homework1 SeleevAN"
   ]
  },
  {
   "cell_type": "markdown",
   "metadata": {
    "id": "sSos7q2_oBGj"
   },
   "source": [
    "## Problem 1"
   ]
  },
  {
   "cell_type": "markdown",
   "metadata": {
    "id": "NiX8ePp0oBGk"
   },
   "source": [
    "Make a tuple containing natural numbers, the square of which is a multiple of 3, 4, but not a multiple of 8 and not exceeding 12345."
   ]
  },
  {
   "cell_type": "code",
   "execution_count": 31,
   "metadata": {
    "id": "XmPHEnS9oBGk"
   },
   "outputs": [
    {
     "data": {
      "text/plain": [
       "(6, 18, 30, 42, 54, 66, 78, 90, 102)"
      ]
     },
     "execution_count": 31,
     "metadata": {},
     "output_type": "execute_result"
    }
   ],
   "source": [
    "from math import sqrt\n",
    "a = tuple(x for x in range(1,int(sqrt(12345))+1) if (x**2)%3==0 and (x**2)%4==0 and (x**2)%8!=0)\n",
    "a"
   ]
  },
  {
   "cell_type": "markdown",
   "metadata": {
    "id": "OZBeUyxcoBGk"
   },
   "source": [
    "## Problem 2"
   ]
  },
  {
   "cell_type": "markdown",
   "metadata": {
    "id": "zIfvg22noBGk"
   },
   "source": [
    "\n",
    "Write a function that takes a two-dimensional array and a string as input and returns an array rotated 90 degrees counterclockwise if the string 'left' was passed, and clockwise if the string 'right' was passed.\n",
    "\n",
    "Example for input: $\\begin{bmatrix} 1 & 2 & 3 \\\\ 4 & 5 & 6 \\\\ 7 & 8 & 9 \\end{bmatrix}$.\\\n",
    "If the string 'left' is passed, the function should return $\\begin{bmatrix} 3 & 6 & 9 \\\\ 2 & 5 & 8 \\\\ 1 & 4 & 7 \\end{bmatrix}$, and if the string 'right' is passed, the function should return $\\begin{bmatrix} 7 & 4 & 1 \\\\ 8 & 5 & 2 \\\\ 9 & 6 & 3 \\end{bmatrix}$."
   ]
  },
  {
   "cell_type": "code",
   "execution_count": 227,
   "metadata": {
    "id": "HNvy_cRjoBGk"
   },
   "outputs": [
    {
     "name": "stdout",
     "output_type": "stream",
     "text": [
      "[3, 6, 9]\n",
      "[2, 5, 8]\n",
      "[1, 4, 7]\n",
      "_________________\n",
      "\n",
      "[7, 4, 1]\n",
      "[8, 5, 2]\n",
      "[9, 6, 3]\n",
      "_________________\n"
     ]
    }
   ],
   "source": [
    "def rot(m, direction):\n",
    "    match direction:\n",
    "        case \"left\":\n",
    "            return [[m[j][i] for j in range(len(m))] for i in range(len(m[0])-1,-1,-1)]\n",
    "        case \"right\":\n",
    "            return [list(reversed(col)) for col in zip(*m)]\n",
    "        case _:\n",
    "            return m\n",
    "        \n",
    "print(*rot([[1, 2 ,3], [4,5,6],[7,8,9]], 'left'), sep =\"\\n\", end=\"\\n_________________\\n\\n\")\n",
    "print(*rot([[1, 2 ,3], [4,5,6],[7,8,9]], 'right'), sep =\"\\n\", end=\"\\n_________________\\n\")\n",
    "\n",
    "# print(list(zip(*[[1, 2 ,3], [4,5,6],[7,8,9]])))"
   ]
  },
  {
   "cell_type": "markdown",
   "metadata": {
    "id": "_dY-PFlCoBGk"
   },
   "source": [
    "## Problem 3"
   ]
  },
  {
   "cell_type": "markdown",
   "metadata": {
    "id": "3CaIwcm0oBGk"
   },
   "source": [
    "Write a function that takes a string as input and returns a dictionary containing the number of occurrences of each character in the string.\n",
    "\n",
    "Example for the string 'hello, world!': {'h': 1, 'e': 1, 'l': 3, 'o': 2, ',': 1, ' ': 1, 'w': 1, 'r': 1, 'd': 1, '!': 1}."
   ]
  },
  {
   "cell_type": "code",
   "execution_count": 32,
   "metadata": {
    "id": "rlSbHusZoBGk"
   },
   "outputs": [
    {
     "data": {
      "text/plain": [
       "{'h': 1, 'e': 1, 'l': 3, 'o': 2, ' ': 1, 'w': 1, 'r': 1, 'd': 1}"
      ]
     },
     "execution_count": 32,
     "metadata": {},
     "output_type": "execute_result"
    }
   ],
   "source": [
    "hash_char = lambda word: {x: word.count(x) for x in word}\n",
    "hash_char(\"hello world\")"
   ]
  },
  {
   "cell_type": "markdown",
   "metadata": {
    "id": "KBGJ7PeboBGk"
   },
   "source": [
    "## Problem 4"
   ]
  },
  {
   "cell_type": "markdown",
   "metadata": {
    "id": "XS4Seqa9oBGk"
   },
   "source": [
    "### Implementing a Library Management System\n",
    "\n",
    "#### Description\n",
    "\n",
    "You are required to design and implement a system for managing books and users in a library. The system should allow for the management of books (adding, deleting, searching by various criteria) and users (registration, deletion, searching), as well as tracking the history of interactions between them (issuing and returning books).\n",
    "\n",
    "#### Tasks\n",
    "\n",
    "1. **`Book` Class**:\n",
    "   - Attributes: title, author, year of publication, ISBN, number of copies.\n",
    "   - Methods: constructor, methods to get information about the book, method to change the number of copies (when issuing and returning books).\n",
    "\n",
    "2. **`User` Class**:\n",
    "   - Attributes: user name, library card number, list of borrowed books.\n",
    "   - Methods: constructor, methods for user registration, methods for adding and removing books from the borrowed list.\n",
    "\n",
    "3. **`Library` Class**:\n",
    "   - Attributes: list of books, list of users, transaction history (who, when, which book was borrowed and returned).\n",
    "   - Methods: constructor, methods for adding and deleting books and users, methods for issuing and returning books, searching for books and users by various criteria, method to display the transaction history.\n",
    "\n",
    "#### Assignment\n",
    "\n",
    "1. Implement the `Book`, `User`, and `Library` classes with the specified attributes and methods.\n",
    "2. Create several books and users, and add them to the library system.\n",
    "3. Implement scenarios for issuing books to users and their return.\n",
    "4. Display the transaction history to show how books were issued and returned.\n"
   ]
  },
  {
   "cell_type": "code",
   "execution_count": 216,
   "metadata": {},
   "outputs": [],
   "source": [
    "from datetime import datetime\n",
    "\n",
    "def transaction_decorator(status):\n",
    "    '''Декоратор для метод iss_book, ret_book '''\n",
    "    def decorator(function):\n",
    "        def wrapper(*args, **kwargs):\n",
    "            args[0].transactions.append({'stat':status, \"user\":args[2].user_name, \"book\": args[1].title, \"datetime\": datetime.today().strftime('%Y-%m-%d %H:%M:%S')})\n",
    "            return function(*args, **kwargs)\n",
    "        return wrapper\n",
    "    return decorator"
   ]
  },
  {
   "cell_type": "code",
   "execution_count": 259,
   "metadata": {
    "id": "IbqwtWWsoBGl"
   },
   "outputs": [],
   "source": [
    "# Your solution here\n",
    "class Book():\n",
    "    def __init__(self, title: str, author: str, year:int, ISBN, n_copies:int):\n",
    "        self.title = title\n",
    "        self.author = author\n",
    "        self.year = year\n",
    "        self.ISBN = ISBN\n",
    "        self.n_copies = n_copies\n",
    "    def get_info(self)->dict:\n",
    "        return self.__dict__\n",
    "    def print_info(self)->None:\n",
    "        print(self.__dict__)\n",
    "    def update_copies(self, n: int = 1)->None:\n",
    "        self.n_copies+=n\n",
    "    def __repr__(self):\n",
    "        return str(self.__dict__)\n",
    "    def __eq__(self, other):\n",
    "        if self.__dict__ == other.__dict__:\n",
    "            return True\n",
    "        else:\n",
    "            return False\n",
    "class User():\n",
    "    def __init__(self, user_name: str, library_card: int|str, books_list:list[Book] = None):\n",
    "        self.user_name = user_name\n",
    "        self.library_card_number = library_card\n",
    "        self.borrowed_books_list = books_list\n",
    "        if books_list is None:\n",
    "            self.borrowed_books_list = []\n",
    "    def register(self, lib)->None:\n",
    "        if self not in lib.users:\n",
    "            lib.users.append(self)\n",
    "            print(\"success\")\n",
    "        else:\n",
    "            print(\"err\")\n",
    "            \n",
    "    def unregister(self, lib)->None:\n",
    "        if self in lib.users:\n",
    "            lib.users.remove(self)\n",
    "            print(\"success\")\n",
    "        else:\n",
    "            print(\"err\")\n",
    "    def add_book(self, book)->None:\n",
    "        if book not in self.borrowed_books_list and book.n_copies > 0:\n",
    "            book.update_copies(-1)\n",
    "            self.borrowed_books_list.append(book)\n",
    "        else:\n",
    "            print('oops, u already have that book or all the copies are gone')\n",
    "    def rm_book(self, book)->None:\n",
    "        if book in self.borrowed_books_list:\n",
    "            book.update_copies(1)\n",
    "            self.borrowed_books_list.remove(book)\n",
    "    def __repr__(self):\n",
    "        return str(self.__dict__)\n",
    "    def __eq__(self, other):\n",
    "        if self.__dict__ == other.__dict__:\n",
    "            return True\n",
    "        else:\n",
    "            return False\n",
    "class Library():\n",
    "    def __init__(self, books:list[Book], users:list[User], transactions:list[dict] = None):\n",
    "        self.books = books\n",
    "        self.users = users\n",
    "        self.transactions = transactions\n",
    "        if transactions is None:\n",
    "            self.transactions = []\n",
    "    def add_book(self, book)->None:\n",
    "        if book not in self.books:\n",
    "            self.books.append(book)\n",
    "    def rm_book(self, book)->None:\n",
    "        if book in self.books:\n",
    "            self.books.remove(book)\n",
    "    def add_user(self, user: User)->None:\n",
    "        user.register(self)\n",
    "    def rm_user(self, user:User)->None:\n",
    "        user.unregister(self)\n",
    "    @transaction_decorator(\"issuing book\")\n",
    "    def iss_book(self, book: Book, user: User):\n",
    "        '''Method for issuing book'''\n",
    "        user.add_book(book)\n",
    "    @transaction_decorator(\"returning book\")\n",
    "    def ret_book(self, book: Book, user: User):\n",
    "        '''Method for returning book '''\n",
    "        user.rm_book(book)\n",
    "    def search_book(self, criteria= lambda x:True):\n",
    "        '''for search pass lambda predicat function for filtering \n",
    "        example: lambda book: book.n_copies > 15'''\n",
    "        return list(filter(criteria ,self.books))\n",
    "    def search_user(self, criteria = lambda x:True):\n",
    "        '''for search pass lambda predicat function for filtering \n",
    "        example: lambda user: user.name == \"John Dow\"'''\n",
    "        return list(filter(criteria,self.users))\n",
    "    def show_transactions(self):\n",
    "        print(self.transactions)\n",
    "    \n",
    "    \n",
    "        "
   ]
  },
  {
   "cell_type": "code",
   "execution_count": 260,
   "metadata": {},
   "outputs": [
    {
     "name": "stdout",
     "output_type": "stream",
     "text": [
      "{'title': 'Crime and Punishment', 'author': 'Dostoevsky', 'year': 1861, 'ISBN': '187-9-991', 'n_copies': 1000}\n",
      "{'title': 'Crime and Punishment', 'author': 'Dostoevsky', 'year': 1861, 'ISBN': '187-9-991', 'n_copies': 990}\n"
     ]
    }
   ],
   "source": [
    "b1 =Book(\"Crime and Punishment\", \"Dostoevsky\", 1861, '187-9-991', 1000)\n",
    "b1.print_info()\n",
    "b1.update_copies(-10)\n",
    "b1.print_info()\n",
    "b2 = Book(\"Onegin\", \"Pushkin\", 1820, '111-22-33', 167)\n",
    "b3 = Book(\"Brodino\", \"Lermontov\", 1830, '22-33-44', 199)\n",
    "u1 = User(\"John\", 1)\n",
    "u2 = User(\"Bob\", 2)\n",
    "u3 = User(\"Alice\", 3)\n",
    "lib = Library([b1, b2, b3], [u1, u2, u3])"
   ]
  },
  {
   "cell_type": "code",
   "execution_count": 261,
   "metadata": {},
   "outputs": [
    {
     "name": "stdout",
     "output_type": "stream",
     "text": [
      "[{'title': 'Crime and Punishment', 'author': 'Dostoevsky', 'year': 1861, 'ISBN': '187-9-991', 'n_copies': 990}, {'title': 'Onegin', 'author': 'Pushkin', 'year': 1820, 'ISBN': '111-22-33', 'n_copies': 167}, {'title': 'Brodino', 'author': 'Lermontov', 'year': 1830, 'ISBN': '22-33-44', 'n_copies': 199}, {'title': 'Lord of the rings', 'author': 'Tolkien', 'year': 1949, 'ISBN': '1-700', 'n_copies': 30000}]\n"
     ]
    }
   ],
   "source": [
    "'''Добавление/Удаление книги'''\n",
    "lib.add_book(Book(\"Lord of the rings\", \"Tolkien\", 1949, '1-700', 30000))\n",
    "print(lib.books)"
   ]
  },
  {
   "cell_type": "code",
   "execution_count": 262,
   "metadata": {},
   "outputs": [
    {
     "name": "stdout",
     "output_type": "stream",
     "text": [
      "[{'title': 'Onegin', 'author': 'Pushkin', 'year': 1820, 'ISBN': '111-22-33', 'n_copies': 167}, {'title': 'Brodino', 'author': 'Lermontov', 'year': 1830, 'ISBN': '22-33-44', 'n_copies': 199}, {'title': 'Lord of the rings', 'author': 'Tolkien', 'year': 1949, 'ISBN': '1-700', 'n_copies': 30000}]\n"
     ]
    }
   ],
   "source": [
    "lib.rm_book(b1)\n",
    "print(lib.books)"
   ]
  },
  {
   "cell_type": "code",
   "execution_count": 263,
   "metadata": {},
   "outputs": [
    {
     "name": "stdout",
     "output_type": "stream",
     "text": [
      "[{'user_name': 'John', 'library_card_number': 1, 'borrowed_books_list': []}, {'user_name': 'Bob', 'library_card_number': 2, 'borrowed_books_list': []}, {'user_name': 'Alice', 'library_card_number': 3, 'borrowed_books_list': []}]\n",
      "success\n",
      "[{'user_name': 'John', 'library_card_number': 1, 'borrowed_books_list': []}, {'user_name': 'Bob', 'library_card_number': 2, 'borrowed_books_list': []}, {'user_name': 'Alice', 'library_card_number': 3, 'borrowed_books_list': []}, {'user_name': 'Peter', 'library_card_number': 4, 'borrowed_books_list': []}]\n"
     ]
    }
   ],
   "source": [
    "'''Добавление/ Удаление пользователя '''\n",
    "print(lib.users)\n",
    "lib.add_user(User(\"Peter\", 4))\n",
    "print(lib.users)"
   ]
  },
  {
   "cell_type": "code",
   "execution_count": 265,
   "metadata": {},
   "outputs": [
    {
     "name": "stdout",
     "output_type": "stream",
     "text": [
      "err\n",
      "[{'user_name': 'John', 'library_card_number': 1, 'borrowed_books_list': []}, {'user_name': 'Alice', 'library_card_number': 3, 'borrowed_books_list': []}, {'user_name': 'Peter', 'library_card_number': 4, 'borrowed_books_list': []}]\n"
     ]
    }
   ],
   "source": [
    "lib.rm_user(u2)\n",
    "print(lib.users)"
   ]
  },
  {
   "cell_type": "code",
   "execution_count": 266,
   "metadata": {},
   "outputs": [
    {
     "name": "stdout",
     "output_type": "stream",
     "text": [
      "{'title': 'Onegin', 'author': 'Pushkin', 'year': 1820, 'ISBN': '111-22-33', 'n_copies': 167}\n",
      "{'user_name': 'John', 'library_card_number': 1, 'borrowed_books_list': []}\n",
      "{'title': 'Onegin', 'author': 'Pushkin', 'year': 1820, 'ISBN': '111-22-33', 'n_copies': 166}\n",
      "{'user_name': 'John', 'library_card_number': 1, 'borrowed_books_list': [{'title': 'Onegin', 'author': 'Pushkin', 'year': 1820, 'ISBN': '111-22-33', 'n_copies': 166}, {'title': 'Brodino', 'author': 'Lermontov', 'year': 1830, 'ISBN': '22-33-44', 'n_copies': 198}]}\n"
     ]
    }
   ],
   "source": [
    "'''Issuing/ returning book '''\n",
    "print(b2)\n",
    "print(u1)\n",
    "lib.iss_book(b2, u1)\n",
    "lib.iss_book(b1, u1)\n",
    "lib.iss_book(b3, u1)\n",
    "lib.ret_book(b1, u1)\n",
    "lib.iss_book(b1, u2)\n",
    "print(b2)\n",
    "print(u1)\n",
    "\n"
   ]
  },
  {
   "cell_type": "code",
   "execution_count": 267,
   "metadata": {},
   "outputs": [
    {
     "name": "stdout",
     "output_type": "stream",
     "text": [
      "[{'stat': 'issuing book', 'user': 'John', 'book': 'Onegin', 'datetime': '2025-02-15 13:19:46'}, {'stat': 'issuing book', 'user': 'John', 'book': 'Crime and Punishment', 'datetime': '2025-02-15 13:19:46'}, {'stat': 'issuing book', 'user': 'John', 'book': 'Brodino', 'datetime': '2025-02-15 13:19:46'}, {'stat': 'returning book', 'user': 'John', 'book': 'Crime and Punishment', 'datetime': '2025-02-15 13:19:46'}, {'stat': 'issuing book', 'user': 'Bob', 'book': 'Crime and Punishment', 'datetime': '2025-02-15 13:19:46'}]\n"
     ]
    }
   ],
   "source": [
    "lib.show_transactions()"
   ]
  },
  {
   "cell_type": "code",
   "execution_count": 268,
   "metadata": {},
   "outputs": [
    {
     "name": "stdout",
     "output_type": "stream",
     "text": [
      "[{'title': 'Onegin', 'author': 'Pushkin', 'year': 1820, 'ISBN': '111-22-33', 'n_copies': 166}, {'title': 'Brodino', 'author': 'Lermontov', 'year': 1830, 'ISBN': '22-33-44', 'n_copies': 198}, {'title': 'Lord of the rings', 'author': 'Tolkien', 'year': 1949, 'ISBN': '1-700', 'n_copies': 30000}]\n",
      "\n",
      "[{'title': 'Brodino', 'author': 'Lermontov', 'year': 1830, 'ISBN': '22-33-44', 'n_copies': 198}, {'title': 'Lord of the rings', 'author': 'Tolkien', 'year': 1949, 'ISBN': '1-700', 'n_copies': 30000}]\n",
      "\n",
      "[{'title': 'Lord of the rings', 'author': 'Tolkien', 'year': 1949, 'ISBN': '1-700', 'n_copies': 30000}]\n",
      "\n",
      "================\n",
      "[{'user_name': 'John', 'library_card_number': 1, 'borrowed_books_list': [{'title': 'Onegin', 'author': 'Pushkin', 'year': 1820, 'ISBN': '111-22-33', 'n_copies': 166}, {'title': 'Brodino', 'author': 'Lermontov', 'year': 1830, 'ISBN': '22-33-44', 'n_copies': 198}]}, {'user_name': 'Alice', 'library_card_number': 3, 'borrowed_books_list': []}, {'user_name': 'Peter', 'library_card_number': 4, 'borrowed_books_list': []}]\n",
      "\n",
      "[{'user_name': 'John', 'library_card_number': 1, 'borrowed_books_list': [{'title': 'Onegin', 'author': 'Pushkin', 'year': 1820, 'ISBN': '111-22-33', 'n_copies': 166}, {'title': 'Brodino', 'author': 'Lermontov', 'year': 1830, 'ISBN': '22-33-44', 'n_copies': 198}]}]\n",
      "\n",
      "[{'user_name': 'John', 'library_card_number': 1, 'borrowed_books_list': [{'title': 'Onegin', 'author': 'Pushkin', 'year': 1820, 'ISBN': '111-22-33', 'n_copies': 166}, {'title': 'Brodino', 'author': 'Lermontov', 'year': 1830, 'ISBN': '22-33-44', 'n_copies': 198}]}]\n",
      "\n"
     ]
    }
   ],
   "source": [
    "\"Searching book/user\"\n",
    "print(lib.search_book(), end=\"\\n\\n\")\n",
    "print(lib.search_book(lambda book: book.n_copies>180), end =\"\\n\\n\")\n",
    "print(lib.search_book(lambda book: book.year>1900), end =\"\\n\\n\")\n",
    "print(\"================\")\n",
    "print(lib.search_user(), end = \"\\n\\n\")\n",
    "print(lib.search_user(lambda user: user.user_name == \"John\"), end = \"\\n\\n\")\n",
    "print(lib.search_user(lambda user: len(user.borrowed_books_list)>0), end = \"\\n\\n\")"
   ]
  },
  {
   "cell_type": "code",
   "execution_count": null,
   "metadata": {},
   "outputs": [],
   "source": []
  },
  {
   "cell_type": "markdown",
   "metadata": {
    "id": "0c8zRbSIoBGl"
   },
   "source": [
    "## Problem 5*"
   ]
  },
  {
   "cell_type": "markdown",
   "metadata": {
    "id": "8ltdzRmOoBGl"
   },
   "source": [
    "Explain why list `b` changes after the execution of the following code:\n",
    "\n",
    "```python\n",
    "a = [1, 2, 3]\n",
    "b = a\n",
    "a[0] = 4\n",
    "print(b)\n",
    "```"
   ]
  },
  {
   "cell_type": "markdown",
   "metadata": {
    "id": "RxgnUfFPoBGl"
   },
   "source": [
    "> Write your answer in markdown cell after:"
   ]
  },
  {
   "cell_type": "code",
   "execution_count": 281,
   "metadata": {},
   "outputs": [
    {
     "name": "stdout",
     "output_type": "stream",
     "text": [
      "[4, 2, 3]\n"
     ]
    },
    {
     "data": {
      "text/plain": [
       "(140071166836032, 140071166836032)"
      ]
     },
     "execution_count": 281,
     "metadata": {},
     "output_type": "execute_result"
    }
   ],
   "source": [
    "a = [1, 2, 3]\n",
    "b = a\n",
    "a[0] = 4\n",
    "print(b)\n",
    "id(a), id(b)"
   ]
  },
  {
   "cell_type": "markdown",
   "metadata": {
    "id": "Mb-amOX5oBGl"
   },
   "source": [
    "`b ` references to the same pyobject as `a` (we can see with id functions above) , and because list is mutable type, changing in `a` leads to changing pyobject which both of `a` and `b` referencing"
   ]
  },
  {
   "cell_type": "markdown",
   "metadata": {
    "id": "TmXLkc_foBGl"
   },
   "source": [
    "## Problem 6*"
   ]
  },
  {
   "cell_type": "markdown",
   "metadata": {
    "id": "Gn0ibiVCoBGl"
   },
   "source": [
    "Let\n",
    "$$A = \\sum_{i=1}^{10000} \\frac{1}{i^2},\\quad B=\\sum_{i=10000}^{1} \\frac{1}{i^2}.$$\n",
    "Calculate the values of $A$ and $B$ and compare them. What do you observe? Explain why this happens. What is the best way to calculate the value of $\\sum\\limits_{i=1}^{10000} \\dfrac{1}{i^2}$?"
   ]
  },
  {
   "cell_type": "code",
   "execution_count": null,
   "metadata": {
    "id": "3q93uGqFoBGl"
   },
   "outputs": [],
   "source": [
    "# Your solution here"
   ]
  }
 ],
 "metadata": {
  "colab": {
   "provenance": []
  },
  "kernelspec": {
   "display_name": "Python 3 (ipykernel)",
   "language": "python",
   "name": "python3"
  },
  "language_info": {
   "codemirror_mode": {
    "name": "ipython",
    "version": 3
   },
   "file_extension": ".py",
   "mimetype": "text/x-python",
   "name": "python",
   "nbconvert_exporter": "python",
   "pygments_lexer": "ipython3",
   "version": "3.11.11"
  }
 },
 "nbformat": 4,
 "nbformat_minor": 4
}
