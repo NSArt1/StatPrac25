{
 "cells": [
  {
   "cell_type": "markdown",
   "metadata": {
    "id": "xw8BD8v2oBGj"
   },
   "source": [
    "# Homework1 SeleevAN"
   ]
  },
  {
   "cell_type": "markdown",
   "metadata": {
    "id": "sSos7q2_oBGj"
   },
   "source": [
    "## Problem 1"
   ]
  },
  {
   "cell_type": "markdown",
   "metadata": {
    "id": "NiX8ePp0oBGk"
   },
   "source": [
    "Make a tuple containing natural numbers, the square of which is a multiple of 3, 4, but not a multiple of 8 and not exceeding 12345."
   ]
  },
  {
   "cell_type": "code",
   "execution_count": 31,
   "metadata": {
    "id": "XmPHEnS9oBGk"
   },
   "outputs": [
    {
     "data": {
      "text/plain": [
       "(6, 18, 30, 42, 54, 66, 78, 90, 102)"
      ]
     },
     "execution_count": 31,
     "metadata": {},
     "output_type": "execute_result"
    }
   ],
   "source": [
    "from math import sqrt\n",
    "a = tuple(x for x in range(1,int(sqrt(12345))+1) if (x**2)%3==0 and (x**2)%4==0 and (x**2)%8!=0)\n",
    "a"
   ]
  },
  {
   "cell_type": "markdown",
   "metadata": {
    "id": "OZBeUyxcoBGk"
   },
   "source": [
    "## Problem 2"
   ]
  },
  {
   "cell_type": "markdown",
   "metadata": {
    "id": "zIfvg22noBGk"
   },
   "source": [
    "\n",
    "Write a function that takes a two-dimensional array and a string as input and returns an array rotated 90 degrees counterclockwise if the string 'left' was passed, and clockwise if the string 'right' was passed.\n",
    "\n",
    "Example for input: $\\begin{bmatrix} 1 & 2 & 3 \\\\ 4 & 5 & 6 \\\\ 7 & 8 & 9 \\end{bmatrix}$.\\\n",
    "If the string 'left' is passed, the function should return $\\begin{bmatrix} 3 & 6 & 9 \\\\ 2 & 5 & 8 \\\\ 1 & 4 & 7 \\end{bmatrix}$, and if the string 'right' is passed, the function should return $\\begin{bmatrix} 7 & 4 & 1 \\\\ 8 & 5 & 2 \\\\ 9 & 6 & 3 \\end{bmatrix}$."
   ]
  },
  {
   "cell_type": "code",
   "execution_count": 45,
   "metadata": {
    "id": "HNvy_cRjoBGk"
   },
   "outputs": [
    {
     "name": "stdout",
     "output_type": "stream",
     "text": [
      "[3, 6, 9]\n",
      "[2, 5, 8]\n",
      "[1, 4, 7]\n",
      "_________________\n",
      "\n",
      "[7, 4, 1]\n",
      "[8, 5, 2]\n",
      "[9, 6, 3]\n",
      "_________________\n"
     ]
    }
   ],
   "source": [
    "def rot(m, direction):\n",
    "    match direction:\n",
    "        case \"left\":\n",
    "            return [[m[j][i] for j in range(len(m))] for i in range(len(m[0])-1,-1,-1)]\n",
    "        case \"right\":\n",
    "            return [list(reversed(col)) for col in zip(*m)]\n",
    "        case _:\n",
    "            return m\n",
    "        \n",
    "print(*rot([[1, 2 ,3], [4,5,6],[7,8,9]], 'left'), sep =\"\\n\", end=\"\\n_________________\\n\\n\")\n",
    "print(*rot([[1, 2 ,3], [4,5,6],[7,8,9]], 'right'), sep =\"\\n\", end=\"\\n_________________\\n\")\n",
    "\n",
    "# print(list(zip(*[[1, 2 ,3], [4,5,6],[7,8,9]])))"
   ]
  },
  {
   "cell_type": "markdown",
   "metadata": {
    "id": "_dY-PFlCoBGk"
   },
   "source": [
    "## Problem 3"
   ]
  },
  {
   "cell_type": "markdown",
   "metadata": {
    "id": "3CaIwcm0oBGk"
   },
   "source": [
    "Write a function that takes a string as input and returns a dictionary containing the number of occurrences of each character in the string.\n",
    "\n",
    "Example for the string 'hello, world!': {'h': 1, 'e': 1, 'l': 3, 'o': 2, ',': 1, ' ': 1, 'w': 1, 'r': 1, 'd': 1, '!': 1}."
   ]
  },
  {
   "cell_type": "code",
   "execution_count": 32,
   "metadata": {
    "id": "rlSbHusZoBGk"
   },
   "outputs": [
    {
     "data": {
      "text/plain": [
       "{'h': 1, 'e': 1, 'l': 3, 'o': 2, ' ': 1, 'w': 1, 'r': 1, 'd': 1}"
      ]
     },
     "execution_count": 32,
     "metadata": {},
     "output_type": "execute_result"
    }
   ],
   "source": [
    "hash_char = lambda word: {x: word.count(x) for x in word}\n",
    "hash_char(\"hello world\")"
   ]
  },
  {
   "cell_type": "markdown",
   "metadata": {
    "id": "KBGJ7PeboBGk"
   },
   "source": [
    "## Problem 4"
   ]
  },
  {
   "cell_type": "markdown",
   "metadata": {
    "id": "XS4Seqa9oBGk"
   },
   "source": [
    "### Implementing a Library Management System\n",
    "\n",
    "#### Description\n",
    "\n",
    "You are required to design and implement a system for managing books and users in a library. The system should allow for the management of books (adding, deleting, searching by various criteria) and users (registration, deletion, searching), as well as tracking the history of interactions between them (issuing and returning books).\n",
    "\n",
    "#### Tasks\n",
    "\n",
    "1. **`Book` Class**:\n",
    "   - Attributes: title, author, year of publication, ISBN, number of copies.\n",
    "   - Methods: constructor, methods to get information about the book, method to change the number of copies (when issuing and returning books).\n",
    "\n",
    "2. **`User` Class**:\n",
    "   - Attributes: user name, library card number, list of borrowed books.\n",
    "   - Methods: constructor, methods for user registration, methods for adding and removing books from the borrowed list.\n",
    "\n",
    "3. **`Library` Class**:\n",
    "   - Attributes: list of books, list of users, transaction history (who, when, which book was borrowed and returned).\n",
    "   - Methods: constructor, methods for adding and deleting books and users, methods for issuing and returning books, searching for books and users by various criteria, method to display the transaction history.\n",
    "\n",
    "#### Assignment\n",
    "\n",
    "1. Implement the `Book`, `User`, and `Library` classes with the specified attributes and methods.\n",
    "2. Create several books and users, and add them to the library system.\n",
    "3. Implement scenarios for issuing books to users and their return.\n",
    "4. Display the transaction history to show how books were issued and returned.\n"
   ]
  },
  {
   "cell_type": "code",
   "execution_count": 62,
   "metadata": {
    "id": "IbqwtWWsoBGl"
   },
   "outputs": [],
   "source": [
    "# Your solution here\n",
    "class Book():\n",
    "    def __init__(self, title: str, author: str, year:int, ISBN, n_copies:int):\n",
    "        self.title = title\n",
    "        self.author = author\n",
    "        self.year = year\n",
    "        self.ISBN = ISBN\n",
    "        self.n_copies = n_copies\n",
    "    def get_info(self)->dict:\n",
    "        return self.__dict__\n",
    "    def print_info(self)->None:\n",
    "        print(self.__dict__)\n",
    "    def update_copies(self, n: int = 1)->None:\n",
    "        self.n_copies+=n\n",
    "class User():\n",
    "    def __init__(self, user_name: str, library_card: int|str, books_list:list[Book] = None):\n",
    "        self.user_name = user_name\n",
    "        self.library_card_number = library_card\n",
    "        self.borrowed_books_list = books_list\n",
    "        if books_list is None:\n",
    "            self.borrowed_books_list = []\n",
    "    def register(self, lib)->None:\n",
    "        if self not in lib.users:\n",
    "            lib.users.append(self)\n",
    "    def unregister(self, lib)->None:\n",
    "        if self in lib.users:\n",
    "            lib.users.remove(self)\n",
    "    def add_book(self, book)->None:\n",
    "        if book not in self.borrowed_books_list and book.n_copies > 0:\n",
    "            book.n_copies-=1\n",
    "            self.borrowed_books_list.append(book)\n",
    "        else:\n",
    "            print('oops, u already have that book or all the copies are gone')\n",
    "    def rm_book(self, book)->None:\n",
    "        if book in self.borrowed_books_list:\n",
    "            book.n_copies+=1\n",
    "            self.borrowed_books_list.remove(book)\n",
    "class Library():\n",
    "    def __init__(self, books:list[Book], users:list[User], transactions:list[dict]):\n",
    "        self.books = books\n",
    "        self.users = users\n",
    "        self.transactions = transactions\n",
    "    def add_book(self, book: Book)->None:\n",
    "        self.books.append(book)\n",
    "    def rm_book(self, book: Book)->None:\n",
    "        self.books.remove()\n",
    "    def add_user(self, user: User)->None:\n",
    "        user.register(self)\n",
    "    def rm_user(self, user:User)->None:\n",
    "        user.unregister(self)\n",
    "    \n",
    "        "
   ]
  },
  {
   "cell_type": "code",
   "execution_count": 48,
   "metadata": {},
   "outputs": [
    {
     "data": {
      "text/plain": [
       "{'title': 'Crime and Punishment',\n",
       " 'author': 'Dostoevsky',\n",
       " 'year': 1861,\n",
       " 'ISBN': '187-9-991',\n",
       " 'n_copies': 1110}"
      ]
     },
     "execution_count": 48,
     "metadata": {},
     "output_type": "execute_result"
    }
   ],
   "source": [
    "a =Book(\"Crime and Punishment\", \"Dostoevsky\", 1861, '187-9-991', 1000)\n",
    "a.get_info()\n",
    "a.update_copies(110)\n",
    "a.get_info()"
   ]
  },
  {
   "cell_type": "code",
   "execution_count": 18,
   "metadata": {},
   "outputs": [
    {
     "name": "stdout",
     "output_type": "stream",
     "text": [
      "Текущая ветка: main\n",
      "Ваша ветка опережает «origin/main» на 1 коммит.\n",
      "  (используйте «git push», чтобы опубликовать ваши локальные коммиты)\n",
      "\n",
      "нечего коммитить, нет изменений в рабочем каталоге\n",
      "Перечисление объектов: 11, готово.\n",
      "Подсчет объектов: 100% (10/10), готово.\n",
      "При сжатии изменений используется до 8 потоков\n",
      "Сжатие объектов: 100% (6/6), готово.\n",
      "Запись объектов: 100% (6/6), 1.04 КиБ | 1.04 МиБ/с, готово.\n",
      "Всего 6 (изменений 2), повторно использовано 0 (изменений 0), повторно использовано пакетов 0\n",
      "remote: Resolving deltas: 100% (2/2), completed with 1 local object.\u001b[K\n",
      "To github.com:NSArt1/StatPrac25.git\n",
      "   a5c8d72..5767ee6  main -> main\n"
     ]
    }
   ],
   "source": [
    "!git add .\n",
    "!git commit -m \"initial commit2\"\n",
    "!git push origin main"
   ]
  },
  {
   "cell_type": "markdown",
   "metadata": {
    "id": "0c8zRbSIoBGl"
   },
   "source": [
    "## Problem 5*"
   ]
  },
  {
   "cell_type": "markdown",
   "metadata": {
    "id": "8ltdzRmOoBGl"
   },
   "source": [
    "Explain why list `b` changes after the execution of the following code:\n",
    "\n",
    "```python\n",
    "a = [1, 2, 3]\n",
    "b = a\n",
    "a[0] = 4\n",
    "print(b)\n",
    "```"
   ]
  },
  {
   "cell_type": "markdown",
   "metadata": {
    "id": "RxgnUfFPoBGl"
   },
   "source": [
    "> Write your answer in markdown cell after:"
   ]
  },
  {
   "cell_type": "markdown",
   "metadata": {
    "id": "Mb-amOX5oBGl"
   },
   "source": []
  },
  {
   "cell_type": "markdown",
   "metadata": {
    "id": "TmXLkc_foBGl"
   },
   "source": [
    "## Problem 6*"
   ]
  },
  {
   "cell_type": "markdown",
   "metadata": {
    "id": "Gn0ibiVCoBGl"
   },
   "source": [
    "Let\n",
    "$$A = \\sum_{i=1}^{10000} \\frac{1}{i^2},\\quad B=\\sum_{i=10000}^{1} \\frac{1}{i^2}.$$\n",
    "Calculate the values of $A$ and $B$ and compare them. What do you observe? Explain why this happens. What is the best way to calculate the value of $\\sum\\limits_{i=1}^{10000} \\dfrac{1}{i^2}$?"
   ]
  },
  {
   "cell_type": "code",
   "execution_count": null,
   "metadata": {
    "id": "3q93uGqFoBGl"
   },
   "outputs": [],
   "source": [
    "# Your solution here"
   ]
  }
 ],
 "metadata": {
  "colab": {
   "provenance": []
  },
  "kernelspec": {
   "display_name": "Python 3 (ipykernel)",
   "language": "python",
   "name": "python3"
  },
  "language_info": {
   "codemirror_mode": {
    "name": "ipython",
    "version": 3
   },
   "file_extension": ".py",
   "mimetype": "text/x-python",
   "name": "python",
   "nbconvert_exporter": "python",
   "pygments_lexer": "ipython3",
   "version": "3.11.11"
  }
 },
 "nbformat": 4,
 "nbformat_minor": 4
}
