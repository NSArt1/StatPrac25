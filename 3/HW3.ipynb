{
 "cells": [
  {
   "cell_type": "markdown",
   "metadata": {
    "id": "CbUPa9N8DC0A"
   },
   "source": [
    "<a href=\"https://drive.google.com/file/d/1b7tSyJBpWggHEBGdWa80JdKh7VNq2FEf/view?usp=sharing\" target=\"_parent\"><img src=\"https://colab.research.google.com/assets/colab-badge.svg\" alt=\"Open In Colab\"/></a>"
   ]
  },
  {
   "cell_type": "markdown",
   "metadata": {
    "id": "IzKTyiYGDC0B"
   },
   "source": [
    "# Random number generators"
   ]
  },
  {
   "cell_type": "markdown",
   "metadata": {
    "id": "v1OC-JenDC0C"
   },
   "source": [
    "![img](https://cdn.ablebits.com/_img-blog/random-generator/random-generator.png)"
   ]
  },
  {
   "cell_type": "markdown",
   "metadata": {
    "id": "JaAGLM0MDC0C"
   },
   "source": [
    "Which properties should a good random number generator have?\n",
    "* must be able to generate numbers that are uniformly distributed in [0, 1]\n",
    "* pass statistical tests (which ones?)\n",
    "* high speed of generation\n",
    "* large period\n",
    "* it works on any platform\n",
    "* reproducibility\n",
    "* cryptographic security (whether this is consistent with previous punctuations?)"
   ]
  },
  {
   "cell_type": "markdown",
   "metadata": {
    "id": "rkmwjpVGDC0C"
   },
   "source": [
    "Random number generator is an **deterministic** (!) algorithm that generates a sequence of numbers that meet certain statistical requirements for randomness. The sequence is not truly random in that it is completely determined by an initial value, called the seed. The same sequence of numbers is generated from the same seed."
   ]
  },
  {
   "cell_type": "markdown",
   "metadata": {
    "id": "xs3lRDqVDC0C"
   },
   "source": [
    "## Middle-square algorithm\n",
    "John von Neumann, 1949\n",
    "\n",
    "Ideas:\n",
    "1. set a four-digit seed - the first number of the random sequence\n",
    "2. square it, get an 8-digit number (if necessary, pad with zeros)\n",
    "3. take a four-digit number from the middle - this is the next element of the random sequence\n",
    "4. repeat 2-3"
   ]
  },
  {
   "cell_type": "code",
   "execution_count": 7,
   "metadata": {
    "colab": {
     "base_uri": "https://localhost:8080/"
    },
    "id": "Q9mq2GRQDC0D",
    "outputId": "ad8371ac-3811-4b18-fe62-fdb3fa83a713"
   },
   "outputs": [
    {
     "data": {
      "text/plain": [
       "array([5497, 2170, 7089, 2539, 4465, 9362, 6470, 8609, 1148, 3179, 1060,\n",
       "       1236, 5276, 8361, 9063, 1379, 9016, 2882, 3059, 3574, 7734, 8147,\n",
       "       3736, 9576, 6997, 9580, 7764, 2796, 8176, 8469, 7239, 4031, 2489,\n",
       "       1951, 8064,  280,  784, 6146, 7733, 7992, 8720,  384, 1474, 1726,\n",
       "       9790, 8441, 2504, 2700, 2900, 4100, 8100, 6100, 2100, 4100, 8100,\n",
       "       6100, 2100, 4100, 8100, 6100, 2100, 4100, 8100, 6100, 2100, 4100,\n",
       "       8100, 6100, 2100, 4100, 8100, 6100, 2100, 4100, 8100, 6100, 2100,\n",
       "       4100, 8100, 6100, 2100, 4100, 8100, 6100, 2100, 4100, 8100, 6100,\n",
       "       2100, 4100, 8100, 6100, 2100, 4100, 8100, 6100, 2100, 4100, 8100,\n",
       "       6100, 2100])"
      ]
     },
     "execution_count": 7,
     "metadata": {},
     "output_type": "execute_result"
    }
   ],
   "source": [
    "import numpy as np\n",
    "\n",
    "def midsquare(val, n=4):\n",
    "    return int(str(val**2).zfill(2*n)[n//2:-n//2])\n",
    "\n",
    "seed = 5497\n",
    "seq = [seed]\n",
    "for _ in range(100):\n",
    "    seq.append(midsquare(seq[-1]))\n",
    "np.array(seq)"
   ]
  },
  {
   "cell_type": "markdown",
   "metadata": {
    "id": "AyOaxHDgDC0E"
   },
   "source": [
    "```\n",
    "… random numbers should not be\n",
    "generated with a method chosen at\n",
    "random. Some theory should be\n",
    "used.\n",
    "```\n",
    "D. Knuth"
   ]
  },
  {
   "cell_type": "markdown",
   "metadata": {
    "id": "lRJUmTnQDC0E"
   },
   "source": [
    "## Linear congruential generator (LCG)"
   ]
  },
  {
   "cell_type": "markdown",
   "metadata": {
    "id": "kNBSkg3YDC0E"
   },
   "source": [
    "Linear congruential generator (LCG) is an algorithm that yields a sequence of pseudo-randomized numbers calculated with a discontinuous piecewise linear equation. The method represents one of the oldest and best-known pseudorandom number generator algorithms. The theory behind them is relatively easy to understand, and they are easily implemented and fast, especially on computer hardware which can provide modulo arithmetic by storage-bit truncation.\n",
    "$$ z_{i+1} = (az_i + c) \\mod m $$\n",
    "\n",
    "A number $z_0$ called the **seed**. It makes the sequence reproducible.\n",
    "\n",
    "Let's implement LCG and test it (on practice it is implemented a little bit complicated, but we will use a simple version for educational purposes)."
   ]
  },
  {
   "cell_type": "code",
   "execution_count": 8,
   "metadata": {
    "id": "Mcd8xnEGDC0F"
   },
   "outputs": [],
   "source": [
    "def rng(m=2**32, a=1103515245, c=12345):\n",
    "    rng.current = (a * rng.current + c) % m\n",
    "    return rng.current / m\n",
    "\n",
    "# setting the seed\n",
    "rng.current = 1"
   ]
  },
  {
   "cell_type": "markdown",
   "metadata": {
    "id": "AfOqbNKFDC0F"
   },
   "source": [
    "Here are 10 first numbers of the sequence generated by LCG:"
   ]
  },
  {
   "cell_type": "code",
   "execution_count": 9,
   "metadata": {
    "colab": {
     "base_uri": "https://localhost:8080/"
    },
    "id": "fLQWdpbMDC0F",
    "outputId": "bac80f14-008c-4272-93c7-c19671f839be"
   },
   "outputs": [
    {
     "data": {
      "text/plain": [
       "[0.25693503906950355,\n",
       " 0.5878706516232342,\n",
       " 0.15432575810700655,\n",
       " 0.767266943352297,\n",
       " 0.9738139626570046,\n",
       " 0.5858681506942958,\n",
       " 0.8511155843734741,\n",
       " 0.6132153405342251,\n",
       " 0.7473867232911289,\n",
       " 0.06236015981994569]"
      ]
     },
     "execution_count": 9,
     "metadata": {},
     "output_type": "execute_result"
    }
   ],
   "source": [
    "[rng() for _ in range(10)]"
   ]
  },
  {
   "cell_type": "markdown",
   "metadata": {
    "id": "z55Yx_HHDC0F"
   },
   "source": [
    "So how do we verify that the sequence does indeed resemble a sample from a uniform distribution?"
   ]
  },
  {
   "cell_type": "markdown",
   "metadata": {
    "id": "t2koVmCRDC0F"
   },
   "source": [
    "Let's do a larger sample:"
   ]
  },
  {
   "cell_type": "code",
   "execution_count": 51,
   "metadata": {
    "id": "9_9GHiexDC0F"
   },
   "outputs": [
    {
     "data": {
      "text/plain": [
       "numpy.ndarray"
      ]
     },
     "execution_count": 51,
     "metadata": {},
     "output_type": "execute_result"
    }
   ],
   "source": [
    "samples = np.array([rng() for _ in range(1000)])\n",
    "type(samples)"
   ]
  },
  {
   "cell_type": "markdown",
   "metadata": {
    "id": "FEB44WwPDC0F"
   },
   "source": [
    "Our first \"test\" is to plot the histogram of the sequence."
   ]
  },
  {
   "cell_type": "code",
   "execution_count": 26,
   "metadata": {
    "colab": {
     "base_uri": "https://localhost:8080/",
     "height": 430
    },
    "id": "uE9gGVytDC0F",
    "outputId": "15431fe0-5b7e-40b5-bee0-87e7b86bc480"
   },
   "outputs": [
    {
     "data": {
      "image/png": "[encoded data removed]",
      "text/plain": [
       "<Figure size 640x480 with 1 Axes>"
      ]
     },
     "metadata": {},
     "output_type": "display_data"
    }
   ],
   "source": [
    "import matplotlib.pyplot as plt\n",
    "\n",
    "fig = plt.figure()\n",
    "plt.hist(samples, bins=20, density=True)\n",
    "plt.show()"
   ]
  },
  {
   "cell_type": "markdown",
   "metadata": {
    "id": "O3kSfaC1DC0F"
   },
   "source": [
    "The histogram does not seem to contradict the hypothesis of uniformity of distribution, but more accurate quantitative estimates are needed. They are obtained with the help of statistical tests."
   ]
  },
  {
   "cell_type": "markdown",
   "metadata": {
    "id": "PNjy7BWQDC0G"
   },
   "source": [
    "# Statistical Tests\n",
    "\n",
    "The general idea of statistical tests. Suppose we want to test the hypothesis that a sample $X$ belongs to some particular (very particular) distribution $F$. The problem is to come up with a statistic (a function of the sample) $T(X)$ which, if our hypothesis is true, will have (at $n\\to\\infty$) a priori known distribution, e.g. $\\mathcal{N}(0, 1)$. Let's calculate the value of the statistic $T=T(X)$ on our sample. If the obtained number $T$ is highly atypical for a normal $\\mathcal{N}(0, 1)$ distribution, we reject the hypothesis. More precisely, we calculate $p=P(|\\xi|\\ge|T|)$ for $\\xi\\sim N(0,1)$. This number $p$ has a special name: $p$-value. If it is small, e.g., less than $0.05$, it is a reason to reject the hypothesis.\n",
    "\n",
    "Next, we will discuss specific tests."
   ]
  },
  {
   "cell_type": "markdown",
   "metadata": {
    "id": "8wefW4FXDC0G"
   },
   "source": [
    "## Kolmogorov-Smirnov test\n",
    "\n",
    "We test the hypothesis that the sample is drawn from the $F$ distribution.\n",
    "Calculate the statistic\n",
    "$$T(X) = \\sup_x| F(x) - F_n(x)|,$$\n",
    "where $F_n(x)$ is the empirical distribution function constructed from a sample $X$ of size $n$.\n",
    "Essentially, $T$ is the largest distance between the two plots (see the picture below).\n",
    "\n",
    "It turns out that if the hypothesis is true, the value $\\sqrt{n}T$ has (in the limit of large $n$) a special distribution called the [Kolmogorov distribution](https://ru.wikipedia.org/wiki/%D0%A0%D0%B0%D1%81%D0%BF%D1%80%D0%B5%D0%B4%D0%B5%D0%BB%D0%B5%D0%BD%D0%B8%D0%B5_%D0%9A%D0%BE%D0%BB%D0%BC%D0%BE%D0%B3%D0%BE%D1%80%D0%BE%D0%B2%D0%B0).\n",
    "\n",
    "The Kolmogorov distribution is tabular, so for any value of the statistic $T$ we can find the $p$-value and see if it is small or not."
   ]
  },
  {
   "cell_type": "markdown",
   "metadata": {
    "id": "1ykZC85cDC0G"
   },
   "source": [
    "![](https://upload.wikimedia.org/wikipedia/commons/thumb/c/cf/KS_Example.png/450px-KS_Example.png)"
   ]
  },
  {
   "cell_type": "markdown",
   "metadata": {
    "id": "tJCoI5jWDC0G"
   },
   "source": [
    "In practice, everything is done in one line (tests the hypothesis that the sample belongs to a uniform distribution `stats.uniform.cdf`):"
   ]
  },
  {
   "cell_type": "code",
   "execution_count": 12,
   "metadata": {
    "colab": {
     "base_uri": "https://localhost:8080/"
    },
    "id": "PtNjjkbVDC0G",
    "outputId": "63bf6491-b5a2-438d-b501-ef9fcace9469"
   },
   "outputs": [
    {
     "data": {
      "text/plain": [
       "KstestResult(statistic=0.026368738710880302, pvalue=0.48207388563860054, statistic_location=0.7513687387108803, statistic_sign=-1)"
      ]
     },
     "execution_count": 12,
     "metadata": {},
     "output_type": "execute_result"
    }
   ],
   "source": [
    "from scipy import stats\n",
    "\n",
    "stats.kstest(samples, stats.uniform.cdf)"
   ]
  },
  {
   "cell_type": "markdown",
   "metadata": {
    "id": "4L9FxfD6DC0G"
   },
   "source": [
    "How to interpret the results?\n",
    "\n",
    "statistic=$0.02637$ - statistic value (maximum distance between graphs)\n",
    "\n",
    "pvalue=$0.48207$ - p-value for this statistic value. We see that pvalue $> 0.05$, so we decide NOT to reject the hypothesis of a uniform distribution.\n",
    "\n",
    "For comparison, let's test the hypothesis that the sample is generated by a normal law:"
   ]
  },
  {
   "cell_type": "code",
   "execution_count": 13,
   "metadata": {
    "colab": {
     "base_uri": "https://localhost:8080/"
    },
    "id": "vcIusidqDC0G",
    "outputId": "359fecad-51a9-44f8-88bc-6fadecb64ae0"
   },
   "outputs": [
    {
     "data": {
      "text/plain": [
       "KstestResult(statistic=0.500866322716208, pvalue=1.4724733582412854e-232, statistic_location=0.00969158555381, statistic_sign=-1)"
      ]
     },
     "execution_count": 13,
     "metadata": {},
     "output_type": "execute_result"
    }
   ],
   "source": [
    "stats.kstest(samples, stats.norm.cdf)"
   ]
  },
  {
   "cell_type": "markdown",
   "metadata": {
    "id": "KB9TyMWwDC0G"
   },
   "source": [
    "Here the p-value is extremely small and we safely reject the hypothesis."
   ]
  },
  {
   "cell_type": "markdown",
   "metadata": {
    "id": "bhtipgDqDC0H"
   },
   "source": [
    "## Chi-squared test (Pearson's chi-squared test)"
   ]
  },
  {
   "cell_type": "markdown",
   "metadata": {
    "id": "8Id32ZqSDC0H"
   },
   "source": [
    "One of the most popular tests. Again we test the hypothesis that the sample (of size $n$) came from the distribution $F$. The idea is to divide the whole area of definition of a random variable into $K$ intervals and in each interval to calculate how many elements of the sample fell into the given interval and how many we would expect to see there, if the sample had size n and was generated by the $F$ distribution. We compile the statistics\n",
    "$$\\chi^2_{K-1}=\\sum\\limits_{i=1}^{K}\\frac{(E_i-O_i)^2}{E_i}$$\n",
    "\n",
    "$E_i, O_i $ are the expected and observed numbers of sample items in the i-th value interval.\n",
    "\n",
    "It is recommended to choose $K$ such that $O_i, E_i \\ge 5$.\n",
    "\n",
    "If the hypothesis is true, the criterion statistic has (in the limit of large $n$) a $\\chi^2$ distribution with $K-1$ degrees of freedom."
   ]
  },
  {
   "cell_type": "markdown",
   "metadata": {
    "id": "rNJwPtPMDC0H"
   },
   "source": [
    "Example of the $\\chi^2$ distribution:"
   ]
  },
  {
   "cell_type": "code",
   "execution_count": 71,
   "metadata": {
    "colab": {
     "base_uri": "https://localhost:8080/",
     "height": 651
    },
    "id": "9rIfiJ71DC0H",
    "outputId": "004abd34-114c-43e1-db0c-5a242cd50ee6"
   },
   "outputs": [
    {
     "data": {
      "image/png": "[encoded data removed]",
      "text/plain": [
       "<Figure size 1000x600 with 1 Axes>"
      ]
     },
     "metadata": {},
     "output_type": "display_data"
    },
    {
     "data": {
      "text/plain": [
       "(array([39, 55, 59, 45, 52, 53, 45, 48, 56, 52, 58, 42, 47, 64, 49, 54, 45,\n",
       "        48, 39, 50]),\n",
       " array([50, 50, 50, 50, 50, 50, 50, 50, 50, 50, 50, 50, 50, 50, 50, 50, 50,\n",
       "        50, 50, 50]),\n",
       " Power_divergenceResult(statistic=16.68, pvalue=0.6115371142388846))"
      ]
     },
     "execution_count": 71,
     "metadata": {},
     "output_type": "execute_result"
    }
   ],
   "source": [
    "k = 20\n",
    "f_obs = np.histogram(samples, np.linspace(0, 1, k+1))[0]\n",
    "f_exp = np.full(k, len(samples) // k)\n",
    "# print(len(list(filter(lambda x: x< 0.1 and x>0.05, samples))))\n",
    "# print(f_obs, f_exp)\n",
    "# Plot the observed and expected frequencies\n",
    "plt.figure(figsize=(10, 6))\n",
    "plt.bar(range(k), f_obs, alpha=0.7, label='Observed')\n",
    "plt.plot(range(k), f_exp, 'r--', label='Expected')\n",
    "plt.xlabel('Interval')\n",
    "plt.ylabel('Frequency')\n",
    "plt.title('Chi-squared Test: Observed vs Expected Frequencies')\n",
    "plt.legend()\n",
    "plt.show()\n",
    "\n",
    "f_obs, f_exp, stats.chisquare(f_obs, f_exp)\n"
   ]
  },
  {
   "cell_type": "markdown",
   "metadata": {
    "id": "Nmhi8s4mDC0H"
   },
   "source": [
    "Conclusion - the observed value of the statistic does not contradict the hypothesis of uniform distribution."
   ]
  },
  {
   "cell_type": "markdown",
   "metadata": {
    "id": "V8aYeRB-DC0H"
   },
   "source": [
    "Problem: sequences `sorted(samples)` and `samples` are indistinguishable for $KS$ and $\\chi^2$ tests. We need additional tests."
   ]
  },
  {
   "cell_type": "markdown",
   "metadata": {
    "id": "JqAk_JZWDC0H"
   },
   "source": [
    "## Serial test"
   ]
  },
  {
   "cell_type": "markdown",
   "metadata": {
    "id": "L-Gy_4E8DC0H"
   },
   "source": [
    "Idea: break the sequence $x_1, x_2, x_3, ..., x_{2n}$ into consecutive series of length $2$: $(x_1, x_2), (x_3, x_4), ..., (x_{2n-1}, x_{2n})$ and look at each element as a random and independent point in $2D$ space. Next, apply chi-square. Similarly, one can construct series of length $3, 4$, etc."
   ]
  },
  {
   "cell_type": "markdown",
   "metadata": {
    "id": "GcIIcx5nDC0H"
   },
   "source": [
    "### Problem 1\n",
    "Implement serial test and apply to a `samples`"
   ]
  },
  {
   "cell_type": "code",
   "execution_count": 103,
   "metadata": {
    "id": "TNrOOXhJDC0H"
   },
   "outputs": [
    {
     "ename": "ValueError",
     "evalue": "For each axis slice, the sum of the observed frequencies must agree with the sum of the expected frequencies to a relative tolerance of 1.4901161193847656e-08, but the percent differences are:\n[0.06       0.1627907  0.14       0.02040816 0.04       0.2\n 0.06       0.02       0.06382979 0.42857143]",
     "output_type": "error",
     "traceback": [
      "\u001b[0;31m---------------------------------------------------------------------------\u001b[0m",
      "\u001b[0;31mValueError\u001b[0m                                Traceback (most recent call last)",
      "\u001b[0;32m/tmp/ipykernel_365754/768887151.py\u001b[0m in \u001b[0;36m?\u001b[0;34m()\u001b[0m\n\u001b[1;32m      4\u001b[0m \u001b[0mk\u001b[0m \u001b[0;34m=\u001b[0m \u001b[0;36m10\u001b[0m\u001b[0;34m\u001b[0m\u001b[0;34m\u001b[0m\u001b[0m\n\u001b[1;32m      5\u001b[0m \u001b[0mf_obs\u001b[0m \u001b[0;34m=\u001b[0m \u001b[0mnp\u001b[0m\u001b[0;34m.\u001b[0m\u001b[0mhistogram2d\u001b[0m\u001b[0;34m(\u001b[0m\u001b[0msample2d\u001b[0m\u001b[0;34m[\u001b[0m\u001b[0;34m:\u001b[0m\u001b[0;34m,\u001b[0m\u001b[0;36m0\u001b[0m\u001b[0;34m]\u001b[0m\u001b[0;34m,\u001b[0m \u001b[0msample2d\u001b[0m\u001b[0;34m[\u001b[0m\u001b[0;34m:\u001b[0m\u001b[0;34m,\u001b[0m\u001b[0;36m1\u001b[0m\u001b[0;34m]\u001b[0m\u001b[0;34m,\u001b[0m \u001b[0mbins\u001b[0m \u001b[0;34m=\u001b[0m \u001b[0;34m(\u001b[0m\u001b[0mk\u001b[0m\u001b[0;34m,\u001b[0m\u001b[0mk\u001b[0m\u001b[0;34m)\u001b[0m\u001b[0;34m)\u001b[0m\u001b[0;34m[\u001b[0m\u001b[0;36m0\u001b[0m\u001b[0;34m]\u001b[0m\u001b[0;34m\u001b[0m\u001b[0;34m\u001b[0m\u001b[0m\n\u001b[1;32m      6\u001b[0m \u001b[0mf_exp\u001b[0m \u001b[0;34m=\u001b[0m \u001b[0mnp\u001b[0m\u001b[0;34m.\u001b[0m\u001b[0mfull\u001b[0m\u001b[0;34m(\u001b[0m\u001b[0;34m(\u001b[0m\u001b[0mk\u001b[0m\u001b[0;34m,\u001b[0m \u001b[0mk\u001b[0m\u001b[0;34m)\u001b[0m\u001b[0;34m,\u001b[0m \u001b[0mlen\u001b[0m\u001b[0;34m(\u001b[0m\u001b[0msample2d\u001b[0m\u001b[0;34m)\u001b[0m \u001b[0;34m//\u001b[0m \u001b[0;34m(\u001b[0m\u001b[0mk\u001b[0m\u001b[0;34m**\u001b[0m\u001b[0;36m2\u001b[0m\u001b[0;34m)\u001b[0m \u001b[0;34m,\u001b[0m \u001b[0mdtype\u001b[0m\u001b[0;34m=\u001b[0m\u001b[0;34m'float64'\u001b[0m\u001b[0;34m)\u001b[0m\u001b[0;34m\u001b[0m\u001b[0;34m\u001b[0m\u001b[0m\n\u001b[1;32m      7\u001b[0m \u001b[0mf_obs\u001b[0m\u001b[0;34m.\u001b[0m\u001b[0mshape\u001b[0m\u001b[0;34m,\u001b[0m \u001b[0mf_exp\u001b[0m\u001b[0;34m.\u001b[0m\u001b[0mshape\u001b[0m\u001b[0;34m\u001b[0m\u001b[0;34m\u001b[0m\u001b[0m\n\u001b[0;32m----> 8\u001b[0;31m \u001b[0mstats\u001b[0m\u001b[0;34m.\u001b[0m\u001b[0mchisquare\u001b[0m\u001b[0;34m(\u001b[0m\u001b[0mf_obs\u001b[0m\u001b[0;34m,\u001b[0m \u001b[0mf_exp\u001b[0m\u001b[0;34m)\u001b[0m\u001b[0;34m\u001b[0m\u001b[0;34m\u001b[0m\u001b[0m\n\u001b[0m",
      "\u001b[0;32m~/anaconda3/envs/selML/lib/python3.11/site-packages/scipy/stats/_stats_py.py\u001b[0m in \u001b[0;36m?\u001b[0;34m(f_obs, f_exp, ddof, axis, sum_check)\u001b[0m\n\u001b[1;32m   7501\u001b[0m     \u001b[0mPower_divergenceResult\u001b[0m\u001b[0;34m(\u001b[0m\u001b[0mstatistic\u001b[0m\u001b[0;34m=\u001b[0m\u001b[0marray\u001b[0m\u001b[0;34m(\u001b[0m\u001b[0;34m[\u001b[0m\u001b[0;36m3.5\u001b[0m \u001b[0;34m,\u001b[0m \u001b[0;36m9.25\u001b[0m\u001b[0;34m]\u001b[0m\u001b[0;34m)\u001b[0m\u001b[0;34m,\u001b[0m \u001b[0mpvalue\u001b[0m\u001b[0;34m=\u001b[0m\u001b[0marray\u001b[0m\u001b[0;34m(\u001b[0m\u001b[0;34m[\u001b[0m\u001b[0;36m0.62338763\u001b[0m\u001b[0;34m,\u001b[0m \u001b[0;36m0.09949846\u001b[0m\u001b[0;34m]\u001b[0m\u001b[0;34m)\u001b[0m\u001b[0;34m)\u001b[0m\u001b[0;34m\u001b[0m\u001b[0;34m\u001b[0m\u001b[0m\n\u001b[1;32m   7502\u001b[0m \u001b[0;34m\u001b[0m\u001b[0m\n\u001b[1;32m   7503\u001b[0m     \u001b[0mFor\u001b[0m \u001b[0ma\u001b[0m \u001b[0mmore\u001b[0m \u001b[0mdetailed\u001b[0m \u001b[0mexample\u001b[0m\u001b[0;34m,\u001b[0m \u001b[0msee\u001b[0m \u001b[0;34m:\u001b[0m\u001b[0mref\u001b[0m\u001b[0;34m:\u001b[0m\u001b[0;31m`\u001b[0m\u001b[0mhypothesis_chisquare\u001b[0m\u001b[0;31m`\u001b[0m\u001b[0;34m.\u001b[0m\u001b[0;34m\u001b[0m\u001b[0;34m\u001b[0m\u001b[0m\n\u001b[1;32m   7504\u001b[0m     \"\"\"  # noqa: E501\n\u001b[0;32m-> 7505\u001b[0;31m     return _power_divergence(f_obs, f_exp=f_exp, ddof=ddof, axis=axis,\n\u001b[0m\u001b[1;32m   7506\u001b[0m                              lambda_=\"pearson\", sum_check=sum_check)\n",
      "\u001b[0;32m~/anaconda3/envs/selML/lib/python3.11/site-packages/scipy/stats/_stats_py.py\u001b[0m in \u001b[0;36m?\u001b[0;34m(f_obs, f_exp, ddof, axis, lambda_, sum_check)\u001b[0m\n\u001b[1;32m   7317\u001b[0m                        \u001b[0;34mf\"frequencies must agree with the sum of the \"\u001b[0m\u001b[0;34m\u001b[0m\u001b[0;34m\u001b[0m\u001b[0m\n\u001b[1;32m   7318\u001b[0m                        \u001b[0;34mf\"expected frequencies to a relative tolerance \"\u001b[0m\u001b[0;34m\u001b[0m\u001b[0;34m\u001b[0m\u001b[0m\n\u001b[1;32m   7319\u001b[0m                        \u001b[0;34mf\"of {rtol}, but the percent differences are:\\n\"\u001b[0m\u001b[0;34m\u001b[0m\u001b[0;34m\u001b[0m\u001b[0m\n\u001b[1;32m   7320\u001b[0m                        f\"{relative_diff}\")\n\u001b[0;32m-> 7321\u001b[0;31m                 \u001b[0;32mraise\u001b[0m \u001b[0mValueError\u001b[0m\u001b[0;34m(\u001b[0m\u001b[0mmsg\u001b[0m\u001b[0;34m)\u001b[0m\u001b[0;34m\u001b[0m\u001b[0;34m\u001b[0m\u001b[0m\n\u001b[0m\u001b[1;32m   7322\u001b[0m \u001b[0;34m\u001b[0m\u001b[0m\n\u001b[1;32m   7323\u001b[0m     \u001b[0;32melse\u001b[0m\u001b[0;34m:\u001b[0m\u001b[0;34m\u001b[0m\u001b[0;34m\u001b[0m\u001b[0m\n\u001b[1;32m   7324\u001b[0m         \u001b[0;31m# Ignore 'invalid' errors so the edge case of a data set with length 0\u001b[0m\u001b[0;34m\u001b[0m\u001b[0;34m\u001b[0m\u001b[0m\n",
      "\u001b[0;31mValueError\u001b[0m: For each axis slice, the sum of the observed frequencies must agree with the sum of the expected frequencies to a relative tolerance of 1.4901161193847656e-08, but the percent differences are:\n[0.06       0.1627907  0.14       0.02040816 0.04       0.2\n 0.06       0.02       0.06382979 0.42857143]"
     ]
    }
   ],
   "source": [
    "# Your code here\n",
    "patrition = lambda sample, d: sample.reshape(sample.shape[0]//d, d)\n",
    "sample2d = patrition(samples, 2)\n",
    "k = 10\n",
    "f_obs = np.histogram2d(sample2d[:,0], sample2d[:,1], bins = (k,k))[0]\n",
    "f_exp = np.full((k, k), len(sample2d) // (k**2) , dtype='float64')\n",
    "f_obs.shape, f_exp.shape\n",
    "stats.chisquare(f_obs, f_exp)"
   ]
  },
  {
   "cell_type": "markdown",
   "metadata": {
    "id": "M_OLpRFDDC0I"
   },
   "source": [
    "### Permutation test"
   ]
  },
  {
   "cell_type": "markdown",
   "metadata": {
    "id": "T0WpaQk0DC0I"
   },
   "source": [
    "We again decompose the sequence $x_1, x_2, x_3, ..., x_{dn}$ into consecutive series of length $d$: $(x_1, ..., x_d), (x_{d+1}, x_{2d+d}), \\ldots, (x_{nd-d+1}, x_{nd})$. A series of $d$ elements can be ordered in $d!$ ways and each way of ordering is equally probable. Hence the idea of the test is to count how many times each ordering occurs among $n$ series and apply the $\\chi^2$ test."
   ]
  },
  {
   "cell_type": "markdown",
   "metadata": {
    "id": "NRdHaC4wDC0P"
   },
   "source": [
    "### Problem 2*\n",
    "Implement permutation test and apply to a `samples`"
   ]
  },
  {
   "cell_type": "code",
   "execution_count": null,
   "metadata": {
    "id": "6KG4zqH-DC0P"
   },
   "outputs": [],
   "source": [
    "# Your code here"
   ]
  },
  {
   "cell_type": "markdown",
   "metadata": {
    "id": "LneIkFdNDC0P"
   },
   "source": [
    "The choice of parameters $m$, $a$ and $c$ has a significant impact on the quality of the sequence. If the parameters are chosen unsuccessfully, it can lead to unexpected consequences:"
   ]
  },
  {
   "cell_type": "code",
   "execution_count": null,
   "metadata": {
    "colab": {
     "base_uri": "https://localhost:8080/"
    },
    "id": "n_ytPSvXDC0P",
    "outputId": "dceca95f-9063-47d6-e2be-e74ec21d3385"
   },
   "outputs": [],
   "source": [
    "def rng_bad(m=2**31, a=65539, c=0):\n",
    "    rng_bad.current = (a * rng_bad.current + c) % m\n",
    "    return rng_bad.current / m\n",
    "rng_bad.current = 1\n",
    "\n",
    "random = [rng_bad() for _ in range(30000)]\n",
    "print(\"This sequence looks as random:\")\n",
    "random[:10]"
   ]
  },
  {
   "cell_type": "markdown",
   "metadata": {
    "id": "2LgpbpEZDC0P"
   },
   "source": [
    "The histogram of the distribution is similar to a uniform distribution:"
   ]
  },
  {
   "cell_type": "code",
   "execution_count": null,
   "metadata": {
    "colab": {
     "base_uri": "https://localhost:8080/",
     "height": 430
    },
    "id": "lO-myBZDDC0P",
    "outputId": "82e97fd1-199a-4907-a57f-58f880bc3c4a"
   },
   "outputs": [],
   "source": [
    "import matplotlib.pyplot as plt\n",
    "fig = plt.figure()\n",
    "\n",
    "plt.hist(random, 20, density=True)\n",
    "plt.show()"
   ]
  },
  {
   "cell_type": "markdown",
   "metadata": {
    "id": "QUr4hLytDC0Q"
   },
   "source": [
    "However, the series test shows that the points are located on hyperplanes, which does not fit well with the notion of randomness:"
   ]
  },
  {
   "cell_type": "code",
   "execution_count": null,
   "metadata": {
    "colab": {
     "base_uri": "https://localhost:8080/",
     "height": 415
    },
    "id": "m6yGkxJnDC0Q",
    "outputId": "8834d865-4a02-473e-ae70-dc6d44d445cf"
   },
   "outputs": [],
   "source": [
    "fig = plt.figure()\n",
    "ax = fig.add_subplot(projection='3d')\n",
    "\n",
    "ax.scatter(random[::3], random[1::3], random[2::3], s=1)\n",
    "plt.show()"
   ]
  },
  {
   "cell_type": "code",
   "execution_count": null,
   "metadata": {
    "colab": {
     "base_uri": "https://localhost:8080/",
     "height": 542
    },
    "id": "410zz590DC0Q",
    "outputId": "736954ac-5c47-497b-9e43-8befbee9aa5a"
   },
   "outputs": [],
   "source": [
    "import plotly.express as px\n",
    "\n",
    "fig = px.scatter_3d(x=random[::3], y=random[1::3], z=random[2::3], opacity=0.1)\n",
    "fig.update_traces(marker_size = 2)\n",
    "fig.show()"
   ]
  },
  {
   "cell_type": "markdown",
   "metadata": {
    "id": "YtxUkx8EDC0Q"
   },
   "source": [
    "### Problem 3\n",
    "\n",
    "Provide a statistical test to show that `rng_bad` has problems but `rng_good` does not."
   ]
  },
  {
   "cell_type": "code",
   "execution_count": null,
   "metadata": {
    "id": "A1rBI9wNDC0Q"
   },
   "outputs": [],
   "source": [
    "# Your code here"
   ]
  },
  {
   "cell_type": "markdown",
   "metadata": {
    "id": "gRQgPAOyDC0Q"
   },
   "source": [
    "* More randomness tests - [Diehard tests](https://en.wikipedia.org/wiki/Diehard_tests).\n",
    "* More methods for generating a uniform value [here](https://en.wikipedia.org/wiki/List_of_random_number_generators).\n",
    "* A story about dynamical systems and the transition to chaos https://www.youtube.com/watch?v=ovJcsL7vyrk&feature=youtu.be"
   ]
  },
  {
   "cell_type": "markdown",
   "metadata": {
    "id": "EQVl2uI9DC0Q"
   },
   "source": [
    "# Generating a sample from a given distribution"
   ]
  },
  {
   "cell_type": "markdown",
   "metadata": {
    "id": "BS1Od7DgDC0R"
   },
   "source": [
    "Suppose we have a random number generator from the segment [0, 1] (use the `np.random.rand()` function for this). How to get a sample from another distribution $F$?"
   ]
  },
  {
   "cell_type": "markdown",
   "metadata": {
    "id": "VPD6MxC1DC0R"
   },
   "source": [
    "### Problem 4\n",
    "Simulate a sample of 1000 from a discrete distribution on a set of digits $0, 1, 2, \\ldots, 9$ with weights $0.12, 0.3, 0.167, 0.24, 0.31, 0.54, 0.111, 0.02, 0.001, 0.2$. Construct a histogram from the sample. Optimise the algorithm by ordering the weights."
   ]
  },
  {
   "cell_type": "code",
   "execution_count": null,
   "metadata": {
    "id": "VO0raezvDC0R"
   },
   "outputs": [],
   "source": [
    "# Your code here"
   ]
  },
  {
   "cell_type": "markdown",
   "metadata": {
    "id": "5x0ONfF-DC0R"
   },
   "source": [
    "## Inverse transform method"
   ]
  },
  {
   "cell_type": "markdown",
   "metadata": {
    "id": "HtFHOTo7DC0R"
   },
   "source": [
    "The following proposition is the idea behind the *inverse transform* method:\n",
    "\n",
    "If $\\xi$ has a uniform distribution in $[0,1]$, then $F^{-1}(\\xi)$ is distributed according to the law of $F$. (For which $F$ is this true?)"
   ]
  },
  {
   "cell_type": "markdown",
   "metadata": {
    "id": "hlOahmx6DC0R"
   },
   "source": [
    "### Problem 5\n",
    "Simulate a sample of size 1000 from the distribution $\\operatorname{Exp}(\\lambda)$ using the Inverse transform method. Construct a sample histogram and an accurate plot of the distribution density."
   ]
  },
  {
   "cell_type": "code",
   "execution_count": null,
   "metadata": {
    "id": "Hz2CYbCYDC0R"
   },
   "outputs": [],
   "source": [
    "# Your code here"
   ]
  },
  {
   "cell_type": "markdown",
   "metadata": {
    "id": "YStrrbTeDC0R"
   },
   "source": [
    "## Rejection sampling (Accept-reject method)\n",
    "\n",
    "The idea of the method is to sample from the distribution we know how to sample from, and then select points that follow the desired distribution. More precisely: let's say we know how to sample from a distribution with density $p$, and we want to sample from a distribution with density $\\pi$. Let's take a random $x$ from the distribution $p$. Then take $y$ uniformly distributed on the interval $[0, p(x)]$. If the point $(x, y)$ falls under the graph of $\\pi$, we take $x$ as a sampling element from $\\pi$. If not, we repeat the procedure for a new $x$. The picture illustrates the idea of the method (the densities are normalised so that one lies entirely under the other):\n",
    "\n",
    "<img src=https://colcarroll.github.io/hamiltonian_monte_carlo_talk/images/bayes_talk.015.png style=\"width: 50%;\"/>"
   ]
  },
  {
   "cell_type": "markdown",
   "metadata": {
    "id": "PkgmRRB1DC0R"
   },
   "source": [
    "### Problem 6\n",
    "Justify (orally) that the accept-reject method really samples from the required distribution. Simulate $1000$ points from the distribution with density $e^xcos^2x \\cdot \\mathbb{I}_{[-\\frac\\pi2, \\frac\\pi2]}$. Plot the sampled histogram on the sample and compare it with the plot of the exact density function."
   ]
  },
  {
   "cell_type": "code",
   "execution_count": null,
   "metadata": {
    "id": "2eO6qsYaDC0R",
    "outputId": "bc89be00-a327-4e60-870a-0630a7b3568a"
   },
   "outputs": [],
   "source": [
    "fig = plt.figure()\n",
    "\n",
    "x = np.linspace(-np.pi/2, np.pi/2, 100)\n",
    "density = np.exp(x) * np.cos(x) ** 2 # not normalized density!\n",
    "plt.fill_between(x, 0, density)\n",
    "plt.ylabel('PDF (not normalized)')\n",
    "plt.xlabel('x')\n",
    "plt.title(r'$e^x \\cos^2(x) \\cdot \\mathbb{I}_{[-\\frac{\\pi}{2}, \\frac{\\pi}{2}]}$')\n",
    "\n",
    "plt.show()"
   ]
  },
  {
   "cell_type": "code",
   "execution_count": null,
   "metadata": {
    "id": "eQ1d-zj0DC0S"
   },
   "outputs": [],
   "source": [
    "# Your code here"
   ]
  },
  {
   "cell_type": "markdown",
   "metadata": {
    "id": "XUkeYFlNDC0S"
   },
   "source": [
    "## Coordinate transformation method\n",
    "\n",
    "The accept-reject method may in some cases be inefficient and require too many sample points. An alternative is to try to find a coordinate transformation that converts a simple area (from which it is easy to sample, for example, a unit square) into the required area, but preserves the area ratio (why?)."
   ]
  },
  {
   "cell_type": "markdown",
   "metadata": {
    "id": "WpqSjZTQDC0S"
   },
   "source": [
    "### Problem 7\n",
    "Model and depict a sample of 500 points uniformly distributed within a given triangle without using a selection method."
   ]
  },
  {
   "cell_type": "code",
   "execution_count": null,
   "metadata": {
    "id": "hahXFVZPDC0S",
    "outputId": "a351d127-7a49-4db3-a134-f3221d9a62fe"
   },
   "outputs": [],
   "source": [
    "from matplotlib.patches import Polygon\n",
    "from matplotlib.collections import PatchCollection\n",
    "\n",
    "fig = plt.figure()\n",
    "\n",
    "polygon = Polygon(xy=np.array([[1, 2], [2, 6], [8, 1]]), closed=True)\n",
    "plt.gca().add_collection(PatchCollection([polygon]))\n",
    "plt.axis('equal')\n",
    "plt.show()"
   ]
  },
  {
   "cell_type": "code",
   "execution_count": null,
   "metadata": {
    "id": "5DVRfTVPDC0S"
   },
   "outputs": [],
   "source": [
    "# Your code here"
   ]
  },
  {
   "cell_type": "markdown",
   "metadata": {
    "id": "phJAVFDrDC0S"
   },
   "source": [
    "### Problem 8\n",
    "Model without using the selection method a sample of $500$ points uniformly distributed inside the unit circle. Picture the obtained points. Do they really fill the circle uniformly?"
   ]
  },
  {
   "cell_type": "code",
   "execution_count": null,
   "metadata": {
    "id": "b2cC7pmGDC0S",
    "outputId": "d85d4376-0195-4d35-eb6a-ff17bafb4a0e"
   },
   "outputs": [],
   "source": [
    "fig = plt.figure()\n",
    "\n",
    "t = np.linspace(0, 2*np.pi, 100)\n",
    "plt.plot(np.sin(t), np.cos(t))\n",
    "plt.axis('equal')\n",
    "plt.show()"
   ]
  },
  {
   "cell_type": "code",
   "execution_count": null,
   "metadata": {
    "id": "yvgxMRrFDC0S"
   },
   "outputs": [],
   "source": [
    "# Your code here"
   ]
  },
  {
   "cell_type": "markdown",
   "metadata": {
    "id": "2yiD9UhoDC0T"
   },
   "source": [
    "# Random normal generator"
   ]
  },
  {
   "cell_type": "markdown",
   "metadata": {
    "id": "-DzCUDyxDC0T"
   },
   "source": [
    "### Problem 9\n",
    "Prove (orally) that the following algorithm (**Box-Muller algorithm**, https://en.wikipedia.org/wiki/Box%E2%80%93Muller_transform) generates a sample of independent $\\mathcal{N}(0,1)$ random variables. Modify the method to exclude calls of trigonometric functions `np.sin` and `np.cos`. Using the modified method, simulate a sample size of $1000$ from a $2D$ Gaussian distribution with mean $\\mu$ and covariance matrix $\\Sigma$, where\n",
    "$$\\mu = \\begin{pmatrix} 4 \\\\ 7 \\end{pmatrix}^T, \\quad \\Sigma = \\begin{pmatrix} 20 & -4 \\\\ -4 & 40 \\end{pmatrix}.$$\n",
    "Construct a 2D histogram of the resulting distribution. Compare the sample mean and covariance matrix with the exact values."
   ]
  },
  {
   "cell_type": "code",
   "execution_count": null,
   "metadata": {
    "id": "lhrlltgwDC0T"
   },
   "outputs": [],
   "source": [
    "import seaborn as sns"
   ]
  },
  {
   "cell_type": "code",
   "execution_count": null,
   "metadata": {
    "id": "X2L--GlBDC0T",
    "outputId": "36a5063f-4a8f-455f-fd5b-71162f4178c2"
   },
   "outputs": [],
   "source": [
    "n = 1000\n",
    "u1, u2 = np.random.rand(2, n)\n",
    "r = np.sqrt(-2 * np.log(u1))\n",
    "theta = 2 * np.pi * u2\n",
    "x = r * np.cos(theta)\n",
    "y = r * np.sin(theta)\n",
    "\n",
    "\n",
    "joint_plot = sns.jointplot(x=x, y=y, color=\"blue\")\n",
    "joint_plot.set_axis_labels('X-axis', 'Y-axis')\n",
    "plt.suptitle('2D Gaussian Distribution', y=1.02)\n",
    "plt.show()"
   ]
  },
  {
   "cell_type": "code",
   "execution_count": null,
   "metadata": {
    "id": "SkDDeAvoDC0T"
   },
   "outputs": [],
   "source": [
    "# Your code here"
   ]
  },
  {
   "cell_type": "markdown",
   "metadata": {
    "id": "HQorD_TwDC0T"
   },
   "source": [
    "### Problem 10*\n",
    "\n",
    "Implement a method of generating a random partition of an n-element set into subsets. Use it to estimate the expected number of subsets in a random partition of a set of 100 elements.\n",
    "\n",
    "Hint 1: Ширяев, Вероятность, т1, задача 2 к параграфу 1.\n",
    "\n",
    "Hint 2: http://djalil.chafai.net/blog/2012/05/03/generating-uniform-random-partitions/"
   ]
  },
  {
   "cell_type": "code",
   "execution_count": null,
   "metadata": {
    "id": "in202uOWDC0T"
   },
   "outputs": [],
   "source": [
    "# Your code here"
   ]
  },
  {
   "cell_type": "markdown",
   "metadata": {
    "id": "rDVLWyQ6DC0T"
   },
   "source": [
    "# Basic distributions\n",
    "- **Uniform distribution $\\operatorname{U}[a, b]$**:\n",
    "$$p(x) = \\frac{1}{b-a}\\cdot\\mathbb{I}_{x\\in[a, b]}$$\n",
    "\n",
    "- **Exponential distribution $\\operatorname{Exp}(\\lambda)$**:\n",
    "$$p(x) = \\lambda e^{-\\lambda x}\\cdot\\mathbb{I}_{x\\geqslant0}$$\n",
    "\n",
    "- **Normal distribution $\\mathcal{N}(\\mu, \\sigma^2)$**:\n",
    "$$p(x) = \\frac{1}{\\sqrt{2\\pi}\\sigma}e^{-\\frac{(x-\\mu)^2}{2\\sigma^2}}$$\n",
    "\n",
    "- **Gamma distribution $\\operatorname{Gamma}(\\alpha, \\lambda)$**:\n",
    "$$p(x) = \\frac{\\lambda^\\alpha}{\\Gamma(\\alpha)}x^{\\alpha-1}e^{-\\lambda x}\\cdot\\mathbb{I}_{x\\geqslant0}$$\n",
    "\n",
    "- **Beta distribution $\\operatorname{Beta}(\\alpha, \\beta)$**:\n",
    "$$p(x) = \\frac{\\Gamma(\\alpha+\\beta)}{\\Gamma(\\alpha)\\Gamma(\\beta)}x^{\\alpha-1}(1-x)^{\\beta-1}\\cdot\\mathbb{I}_{x\\in[0, 1]}$$\n",
    "\n",
    "- **$\\chi^2$ distribution with $k$ degrees of freedom $\\chi^2(k)$**:\n",
    "$$p(x) = \\frac{1}{2^{k/2}\\Gamma(k/2)}x^{k/2-1}e^{-x/2}\\cdot\\mathbb{I}_{x\\geqslant0}$$\n",
    "\n"
   ]
  },
  {
   "cell_type": "code",
   "execution_count": null,
   "metadata": {
    "id": "8QYTLKDMDC0U",
    "outputId": "fd1f24cb-ee42-48b0-c8a2-632bba9ee678"
   },
   "outputs": [],
   "source": [
    "# Define distributions and their parameters\n",
    "distributions = [\n",
    "    (\"Uniform distribution $\\\\operatorname{U}[-1, 1]$\", stats.uniform, (-1, 1)),\n",
    "    (\"Exponential distribution $\\\\operatorname{Exp}(1)$\", stats.expon, (1,)),\n",
    "    (\"Normal distribution $\\\\mathcal{N}(0, 1)$\", stats.norm, (0, 1)),\n",
    "    (\"Gamma distribution $\\\\Gamma(2, 2)$\", stats.gamma, (2, 2)),\n",
    "    (\"Beta distribution $\\\\operatorname{B}(2, 2)$\", stats.beta, (2, 2)),\n",
    "    (\"$\\\\chi^2$ distribution with $k$ degrees of freedom $\\\\chi^2(5)$\", stats.chi2, (5,))\n",
    "]\n",
    "\n",
    "# Setup the figure and axes for a 2x3 subplot\n",
    "fig, axs = plt.subplots(3, 2, figsize=(10, 15))  # Adjust figsize according to your needs\n",
    "axs = axs.flatten()  # Flatten the array to easily iterate over it\n",
    "\n",
    "for ax, (name, dist, params) in zip(axs, distributions):\n",
    "    # Generate sample data\n",
    "    data = dist.rvs(*params, size=1000)\n",
    "    # Generate points for PDF\n",
    "    x = np.linspace(min(data), max(data), 1000)\n",
    "    pdf = dist.pdf(x, *params)\n",
    "\n",
    "    # Plot histogram of sample data\n",
    "    ax.hist(data, bins=30, density=True, alpha=0.5, label='Sample data')\n",
    "    # Plot theoretical PDF\n",
    "    ax.plot(x, pdf, 'r-', label='Theoretical PDF')\n",
    "    ax.set_title(name)\n",
    "    ax.legend()\n",
    "    ax.grid(linestyle='--', color='black', alpha=0.3)\n",
    "\n",
    "plt.tight_layout()  # Adjust subplots to fit in the figure area\n",
    "plt.show()\n"
   ]
  }
 ],
 "metadata": {
  "colab": {
   "provenance": []
  },
  "kernelspec": {
   "display_name": "Python 3 (ipykernel)",
   "language": "python",
   "name": "python3"
  },
  "language_info": {
   "codemirror_mode": {
    "name": "ipython",
    "version": 3
   },
   "file_extension": ".py",
   "mimetype": "text/x-python",
   "name": "python",
   "nbconvert_exporter": "python",
   "pygments_lexer": "ipython3",
   "version": "3.11.11"
  }
 },
 "nbformat": 4,
 "nbformat_minor": 4
}
